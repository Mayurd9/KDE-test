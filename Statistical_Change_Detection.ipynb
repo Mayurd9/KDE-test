{
  "metadata": {
    "kernelspec": {
      "display_name": "Python 3",
      "language": "python",
      "name": "python3"
    },
    "language_info": {
      "name": "python",
      "version": "3.10.13",
      "mimetype": "text/x-python",
      "codemirror_mode": {
        "name": "ipython",
        "version": 3
      },
      "pygments_lexer": "ipython3",
      "nbconvert_exporter": "python",
      "file_extension": ".py"
    },
    "kaggle": {
      "accelerator": "none",
      "dataSources": [
        {
          "sourceId": 8344135,
          "sourceType": "datasetVersion",
          "datasetId": 4956394
        },
        {
          "sourceId": 8344150,
          "sourceType": "datasetVersion",
          "datasetId": 4956406
        }
      ],
      "dockerImageVersionId": 30698,
      "isInternetEnabled": true,
      "language": "python",
      "sourceType": "notebook",
      "isGpuEnabled": false
    },
    "colab": {
      "provenance": [],
      "include_colab_link": true
    }
  },
  "nbformat_minor": 5,
  "nbformat": 4,
  "cells": [
    {
      "cell_type": "markdown",
      "metadata": {
        "id": "view-in-github",
        "colab_type": "text"
      },
      "source": [
        "<a href=\"https://colab.research.google.com/github/Mayurd9/KDE-test/blob/main/Statistical_Change_Detection.ipynb\" target=\"_parent\"><img src=\"https://colab.research.google.com/assets/colab-badge.svg\" alt=\"Open In Colab\"/></a>"
      ]
    },
    {
      "cell_type": "code",
      "source": [
        "import numpy as np\n",
        "from scipy.stats import norm\n",
        "import matplotlib.pyplot as plt"
      ],
      "metadata": {
        "execution": {
          "iopub.status.busy": "2024-05-07T11:53:59.772664Z",
          "iopub.execute_input": "2024-05-07T11:53:59.773077Z",
          "iopub.status.idle": "2024-05-07T11:53:59.778574Z",
          "shell.execute_reply.started": "2024-05-07T11:53:59.773046Z",
          "shell.execute_reply": "2024-05-07T11:53:59.777459Z"
        },
        "trusted": true,
        "id": "-UWnrccDmvhP"
      },
      "execution_count": 64,
      "outputs": [],
      "id": "-UWnrccDmvhP"
    },
    {
      "cell_type": "markdown",
      "source": [
        "# **$\\textbf{All the required functions}$**"
      ],
      "metadata": {
        "id": "B9wEdoVmmvhW"
      },
      "id": "B9wEdoVmmvhW"
    },
    {
      "cell_type": "code",
      "source": [
        "def small_p(xi, xj, cov):\n",
        "    k_dim = s1_matrix.shape[1]          #dimensions of s1 matrix\n",
        "    cov_1 = cov\n",
        "    det_cov = np.linalg.det(cov)\n",
        "    epsilon = 1e-2\n",
        "    det_cov = max(det_cov, epsilon)\n",
        "\n",
        "    if det_cov == 0.01:\n",
        "        alpha = 1e-1\n",
        "        cov_1 = cov_1 + alpha * np.identity(s1_matrix.shape[1])\n",
        "        det_cov = np.linalg.det(cov_1)        #new addition 4/5/2024\n",
        "\n",
        "    a = 1 / (((2 * np.pi) ** (k_dim / 2)) * det_cov ** 0.5)\n",
        "    b = -0.5 * ((xj - xi).T @ np.linalg.inv(cov_1) @ (xj - xi))\n",
        "\n",
        "    if b > 1000:\n",
        "        print('b value', b)\n",
        "    b = min(b, 50)\n",
        "    p = a * np.exp(b)\n",
        "\n",
        "    return p"
      ],
      "metadata": {
        "execution": {
          "iopub.status.busy": "2024-05-07T11:54:00.395273Z",
          "iopub.execute_input": "2024-05-07T11:54:00.395687Z",
          "iopub.status.idle": "2024-05-07T11:54:00.406121Z",
          "shell.execute_reply.started": "2024-05-07T11:54:00.395656Z",
          "shell.execute_reply": "2024-05-07T11:54:00.404135Z"
        },
        "trusted": true,
        "id": "wsufGMqGmvhY"
      },
      "execution_count": 65,
      "outputs": [],
      "id": "wsufGMqGmvhY"
    },
    {
      "cell_type": "code",
      "source": [
        "def capital_p(i, j, cov_mat):\n",
        "    summation = 0\n",
        "    xi = s1_matrix[i, :].reshape(-1, 1)\n",
        "    xj = s1_matrix[j, :].reshape(-1, 1)\n",
        "\n",
        "    for k in range(len_s1):\n",
        "        if k != j:\n",
        "            xk = s1_matrix[k, :].reshape(-1, 1)\n",
        "            summation += small_p(xk,xj, cov_mat[k])\n",
        "\n",
        "    # Avoid division by zero\n",
        "    summation = np.clip(summation,1e-4,np.inf)\n",
        "    P = small_p(xi,xj,cov_mat[i]) / summation\n",
        "\n",
        "    return  P"
      ],
      "metadata": {
        "execution": {
          "iopub.status.busy": "2024-05-07T11:54:00.608000Z",
          "iopub.execute_input": "2024-05-07T11:54:00.609069Z",
          "iopub.status.idle": "2024-05-07T11:54:00.616389Z",
          "shell.execute_reply.started": "2024-05-07T11:54:00.609032Z",
          "shell.execute_reply": "2024-05-07T11:54:00.615300Z"
        },
        "trusted": true,
        "id": "UT0nMQ92mvhZ"
      },
      "execution_count": 66,
      "outputs": [],
      "id": "UT0nMQ92mvhZ"
    },
    {
      "cell_type": "code",
      "source": [
        "def cov_xi(i,cov_mat):\n",
        "    denominator = 0\n",
        "    numerator = 0\n",
        "\n",
        "    xi = s1_matrix[i, :].reshape(-1, 1)\n",
        "    for j in range(len_s1):\n",
        "        if i!=j:\n",
        "            xj = s1_matrix[j, :].reshape(-1, 1)\n",
        "            P = capital_p(i, j, cov_mat)\n",
        "            denominator += P\n",
        "            numerator += P * ((xj - xi) @ (xj - xi).T)\n",
        "\n",
        "    return numerator / denominator"
      ],
      "metadata": {
        "execution": {
          "iopub.status.busy": "2024-05-07T11:54:00.812170Z",
          "iopub.execute_input": "2024-05-07T11:54:00.812565Z",
          "iopub.status.idle": "2024-05-07T11:54:00.819730Z",
          "shell.execute_reply.started": "2024-05-07T11:54:00.812534Z",
          "shell.execute_reply": "2024-05-07T11:54:00.818440Z"
        },
        "trusted": true,
        "id": "5ExddSUQmvha"
      },
      "execution_count": 67,
      "outputs": [],
      "id": "5ExddSUQmvha"
    },
    {
      "cell_type": "code",
      "source": [
        "def L(cov_mat):\n",
        "    L_new = 0\n",
        "    for j in range(len_s1):\n",
        "        xj = s1_matrix[j, :].reshape(-1, 1)\n",
        "        summation = 0\n",
        "        for i in range(len_s1):\n",
        "            if i!=j:\n",
        "                xi = s1_matrix[i, :].reshape(-1, 1)\n",
        "                summation+=small_p(xi,xj,cov_mat[i])\n",
        "\n",
        "        summation=summation/(len_s1-1)\n",
        "        L_new+=np.log(summation)\n",
        "\n",
        "    return L_new[0][0]"
      ],
      "metadata": {
        "execution": {
          "iopub.status.busy": "2024-05-07T11:54:01.021488Z",
          "iopub.execute_input": "2024-05-07T11:54:01.022128Z",
          "iopub.status.idle": "2024-05-07T11:54:01.029162Z",
          "shell.execute_reply.started": "2024-05-07T11:54:01.022070Z",
          "shell.execute_reply": "2024-05-07T11:54:01.027993Z"
        },
        "trusted": true,
        "id": "ZNKRoPbdmvha"
      },
      "execution_count": 68,
      "outputs": [],
      "id": "ZNKRoPbdmvha"
    },
    {
      "cell_type": "code",
      "source": [
        "def Algorithm1(cov_mat):\n",
        "    t = 0\n",
        "    phi = 0.01\n",
        "    L_prev = -250\n",
        "\n",
        "    while t < 41:\n",
        "        temp = []\n",
        "        for i in range(len_s1):\n",
        "            temp.append(cov_xi(i,cov_mat))\n",
        "\n",
        "        cov_mat = temp.copy()\n",
        "\n",
        "        for i in range(len_s1):\n",
        "            if np.linalg.det(cov_mat[i]) <= 0:\n",
        "                alpha = 1e-2\n",
        "                cov_mat[i] = cov_mat[i] + alpha * np.identity(s1_matrix.shape[1])\n",
        "\n",
        "        L_new = L(cov_mat)\n",
        "\n",
        "        print('L_prev=',L_prev)\n",
        "        print('L_new=',L_new)\n",
        "        print('t=',t)\n",
        "        print('-'*50)\n",
        "\n",
        "        if abs((L_new-L_prev)/L_prev) < phi:\n",
        "            break\n",
        "\n",
        "        else:\n",
        "            L_prev=L_new\n",
        "            t+=1\n",
        "\n",
        "    return cov_mat"
      ],
      "metadata": {
        "execution": {
          "iopub.status.busy": "2024-05-07T11:54:01.234110Z",
          "iopub.execute_input": "2024-05-07T11:54:01.234651Z",
          "iopub.status.idle": "2024-05-07T11:54:01.245501Z",
          "shell.execute_reply.started": "2024-05-07T11:54:01.234610Z",
          "shell.execute_reply": "2024-05-07T11:54:01.244296Z"
        },
        "trusted": true,
        "id": "88-3G1i_mvhb"
      },
      "execution_count": 69,
      "outputs": [],
      "id": "88-3G1i_mvhb"
    },
    {
      "cell_type": "code",
      "source": [
        "def F(T):\n",
        "    s = 0\n",
        "    for i in range(len_s1):\n",
        "        xi = s1_matrix[i, :].reshape(-1, 1)\n",
        "        s += small_p(xi,T,cov_mat[i])\n",
        "    f = np.log(s/len_s1)\n",
        "    return f\n",
        "\n",
        "def EstVar(estsize,beta):\n",
        "    Est = []\n",
        "    for t in range(1,estsize):\n",
        "        #R = s2.sample(n=len(s2), replace=True, random_state=42)\n",
        "        R=s2_matrix       #Specified for image dataset, in case of non-image dataset comment this and uncomment above and below lines\n",
        "        #R = R.to_numpy()\n",
        "        F_R = []\n",
        "        for i in range(len_s2):\n",
        "            T = R[i, :].reshape(-1, 1)\n",
        "            F_R.append(F(T))\n",
        "\n",
        "        var_F_R = np.var(np.array(F_R))\n",
        "        Est.append((len_s2/(len_s2-1))*var_F_R)\n",
        "\n",
        "    V =  np.percentile(Est, estsize*(1 - beta))\n",
        "    var_delta = (len_sprime + ((len_sprime**2) / len_s2))*V\n",
        "    return var_delta"
      ],
      "metadata": {
        "execution": {
          "iopub.status.busy": "2024-05-07T11:54:01.439085Z",
          "iopub.execute_input": "2024-05-07T11:54:01.439495Z",
          "iopub.status.idle": "2024-05-07T11:54:01.450568Z",
          "shell.execute_reply.started": "2024-05-07T11:54:01.439464Z",
          "shell.execute_reply": "2024-05-07T11:54:01.449189Z"
        },
        "trusted": true,
        "id": "cNvKy2YFmvhb"
      },
      "execution_count": 70,
      "outputs": [],
      "id": "cNvKy2YFmvhb"
    },
    {
      "cell_type": "code",
      "source": [
        "from scipy.stats import norm\n",
        "\n",
        "def critical_value(p,stepsize):\n",
        "    estsize = 100\n",
        "    M = int(np.ceil((p/stepsize)-1))\n",
        "    C = []\n",
        "    for i in range(1, M+1):\n",
        "        alpha_i = i*stepsize\n",
        "        beta_i = p-alpha_i\n",
        "        var_delta = EstVar(estsize,beta_i)\n",
        "        mean = 0\n",
        "        std_dev = np.sqrt(var_delta)\n",
        "        c = norm.ppf(alpha_i, loc = mean, scale = std_dev)\n",
        "        C.append(c)\n",
        "\n",
        "    C_max = max(C)\n",
        "    return C_max"
      ],
      "metadata": {
        "execution": {
          "iopub.status.busy": "2024-05-07T11:54:01.709494Z",
          "iopub.execute_input": "2024-05-07T11:54:01.709920Z",
          "iopub.status.idle": "2024-05-07T11:54:01.718633Z",
          "shell.execute_reply.started": "2024-05-07T11:54:01.709886Z",
          "shell.execute_reply": "2024-05-07T11:54:01.717193Z"
        },
        "trusted": true,
        "id": "h2XJOcStmvhc"
      },
      "execution_count": 71,
      "outputs": [],
      "id": "h2XJOcStmvhc"
    },
    {
      "cell_type": "code",
      "source": [
        "def delta():\n",
        "\n",
        "    a = 0\n",
        "    for j in range(len_sprime):\n",
        "        y = sprime_matrix[j, :].reshape(-1, 1)\n",
        "        summation = 0\n",
        "        for i in range(len_s1):\n",
        "            x = s1_matrix[i, :].reshape(-1, 1)\n",
        "            summation += small_p(x,y,cov_mat[i])\n",
        "\n",
        "        a += np.log(summation/len_s1)\n",
        "\n",
        "    b = 0\n",
        "    for j in range(len_s1):\n",
        "        y = s1_matrix[j, :].reshape(-1, 1)\n",
        "        summation = 0\n",
        "        for i in range(len_s1):\n",
        "            x = s1_matrix[i, :].reshape(-1, 1)\n",
        "            summation += small_p(x,y,cov_mat[i])\n",
        "\n",
        "        b += (np.log(summation/len_s1))*len_sprime/len_s1\n",
        "\n",
        "    delta = a-b\n",
        "\n",
        "    return delta[0][0]"
      ],
      "metadata": {
        "execution": {
          "iopub.status.busy": "2024-05-07T11:54:01.977480Z",
          "iopub.execute_input": "2024-05-07T11:54:01.978082Z",
          "iopub.status.idle": "2024-05-07T11:54:01.987442Z",
          "shell.execute_reply.started": "2024-05-07T11:54:01.978050Z",
          "shell.execute_reply": "2024-05-07T11:54:01.986392Z"
        },
        "trusted": true,
        "id": "nqHjpfDKmvhc"
      },
      "execution_count": 72,
      "outputs": [],
      "id": "nqHjpfDKmvhc"
    },
    {
      "cell_type": "markdown",
      "source": [
        "# $\\textbf{Data Pre-processing}$"
      ],
      "metadata": {
        "id": "DQ53u1Rjmvhd"
      },
      "id": "DQ53u1Rjmvhd"
    },
    {
      "cell_type": "code",
      "source": [
        "import tensorflow as tf\n",
        "from tensorflow.keras.datasets import mnist\n",
        "\n",
        "# Load the MNIST dataset\n",
        "(x_train, y_train), (x_test, y_test) = mnist.load_data()\n",
        "\n",
        "# Normalize the pixel values to be between 0 and 1\n",
        "x_train, x_test = x_train / 255.0, x_test / 255.0\n",
        "\n",
        "# Print the shape of the training and testing data\n",
        "print(\"Training data shape:\", x_train.shape)\n",
        "print(\"Training labels shape:\", y_train.shape)\n",
        "print(\"Testing data shape:\", x_test.shape)\n",
        "print(\"Testing labels shape:\", y_test.shape)"
      ],
      "metadata": {
        "execution": {
          "iopub.status.busy": "2024-05-07T11:54:04.644523Z",
          "iopub.execute_input": "2024-05-07T11:54:04.644926Z",
          "iopub.status.idle": "2024-05-07T11:54:05.182229Z",
          "shell.execute_reply.started": "2024-05-07T11:54:04.644896Z",
          "shell.execute_reply": "2024-05-07T11:54:05.180825Z"
        },
        "trusted": true,
        "colab": {
          "base_uri": "https://localhost:8080/"
        },
        "id": "QHjlpaUTmvhd",
        "outputId": "8a27265e-1163-49b1-8740-445529534b63"
      },
      "execution_count": 73,
      "outputs": [
        {
          "output_type": "stream",
          "name": "stdout",
          "text": [
            "Training data shape: (60000, 28, 28)\n",
            "Training labels shape: (60000,)\n",
            "Testing data shape: (10000, 28, 28)\n",
            "Testing labels shape: (10000,)\n"
          ]
        }
      ],
      "id": "QHjlpaUTmvhd"
    },
    {
      "cell_type": "markdown",
      "source": [
        "# $\\textbf{Case 1: When S and S' are entirely different images}$"
      ],
      "metadata": {
        "id": "wcUY2zU92HGR"
      },
      "id": "wcUY2zU92HGR"
    },
    {
      "cell_type": "code",
      "source": [
        "image_index_s1=50100    #we can put any number here\n",
        "image_index_sprime= image_index_s1 + np.random.randint(1,10)   #Check whether these two images are different or not by running next cell. If they are not same, re-run this cell.\n",
        "\n",
        "s1_matrix=x_train[image_index_s1]\n",
        "len_s1=s1_matrix.shape[0]\n",
        "s2_matrix=s1_matrix.copy()\n",
        "len_s2=s2_matrix.shape[0]\n",
        "sprime_matrix=x_train[image_index_sprime]\n",
        "len_sprime=sprime_matrix.shape[0]"
      ],
      "metadata": {
        "execution": {
          "iopub.status.busy": "2024-05-07T11:59:10.717871Z",
          "iopub.execute_input": "2024-05-07T11:59:10.718432Z",
          "iopub.status.idle": "2024-05-07T11:59:10.725755Z",
          "shell.execute_reply.started": "2024-05-07T11:59:10.718397Z",
          "shell.execute_reply": "2024-05-07T11:59:10.724360Z"
        },
        "trusted": true,
        "id": "0AXkrtaEmvhe"
      },
      "execution_count": 74,
      "outputs": [],
      "id": "0AXkrtaEmvhe"
    },
    {
      "cell_type": "markdown",
      "source": [
        "**$\\textbf{Displaying images}$**"
      ],
      "metadata": {
        "id": "Pdilntsfmvhf"
      },
      "id": "Pdilntsfmvhf"
    },
    {
      "cell_type": "code",
      "source": [
        " #visualizing images\n",
        "s1_matrix_view=s1_matrix*255\n",
        "sprime_matrix_view=sprime_matrix*255\n",
        "\n",
        "s1_matrix_view=s1_matrix*255\n",
        "sprime_matrix_view=sprime_matrix*255\n",
        "\n",
        "fig, axes = plt.subplots(1, 2, figsize=(10, 5))\n",
        "axes[0].imshow(s1_matrix_view, cmap='gray')\n",
        "axes[0].set_title('S1')\n",
        "axes[0].axis('on')\n",
        "\n",
        "axes[1].imshow(sprime_matrix_view, cmap='gray')\n",
        "axes[1].set_title('S prime')\n",
        "axes[1].axis('on')\n",
        "\n",
        "plt.tight_layout()\n",
        "plt.show()"
      ],
      "metadata": {
        "execution": {
          "iopub.status.busy": "2024-05-07T11:59:14.048596Z",
          "iopub.execute_input": "2024-05-07T11:59:14.049795Z",
          "iopub.status.idle": "2024-05-07T11:59:14.990441Z",
          "shell.execute_reply.started": "2024-05-07T11:59:14.049755Z",
          "shell.execute_reply": "2024-05-07T11:59:14.989149Z"
        },
        "trusted": true,
        "colab": {
          "base_uri": "https://localhost:8080/",
          "height": 533
        },
        "id": "LEN0HcAVmvhf",
        "outputId": "3c65c328-702f-45ed-8cbc-5a389e7a3a62"
      },
      "execution_count": 75,
      "outputs": [
        {
          "output_type": "display_data",
          "data": {
            "text/plain": [
              "<Figure size 1000x500 with 2 Axes>"
            ],
            "image/png": "[encoded data removed]"
          },
          "metadata": {}
        }
      ],
      "id": "LEN0HcAVmvhf"
    },
    {
      "cell_type": "markdown",
      "source": [
        "**$\\textbf{Training}$**"
      ],
      "metadata": {
        "id": "4S4P4LYXmvhf"
      },
      "id": "4S4P4LYXmvhf"
    },
    {
      "cell_type": "code",
      "source": [
        "# Initial guess\n",
        "cov_mat = []\n",
        "for i in range(len_s1):\n",
        "    xi = s1_matrix[i, :].reshape(-1, 1)\n",
        "    mat = 0\n",
        "    for j in range(len_s1):\n",
        "        xj = s1_matrix[j, :].reshape(-1, 1)\n",
        "        mat += (xj-xi) @ (xj-xi).T\n",
        "    cov_mat.append(mat/(len_s1-1))\n",
        "\n",
        "#Training\n",
        "cov_mat= Algorithm1(cov_mat)\n",
        "\n",
        "p = 0.08\n",
        "stepsize = 0.02\n",
        "C_max= critical_value(p,stepsize)"
      ],
      "metadata": {
        "execution": {
          "iopub.status.busy": "2024-05-07T11:59:19.687328Z",
          "iopub.execute_input": "2024-05-07T11:59:19.688652Z",
          "iopub.status.idle": "2024-05-07T12:00:20.093467Z",
          "shell.execute_reply.started": "2024-05-07T11:59:19.688609Z",
          "shell.execute_reply": "2024-05-07T12:00:20.091898Z"
        },
        "trusted": true,
        "colab": {
          "base_uri": "https://localhost:8080/"
        },
        "id": "nP9qZOuymvhf",
        "outputId": "c191009a-48c1-4102-defa-265cceace393"
      },
      "execution_count": 76,
      "outputs": [
        {
          "output_type": "stream",
          "name": "stdout",
          "text": [
            "L_prev= -250\n",
            "L_new= -24.979061419041678\n",
            "t= 0\n",
            "--------------------------------------------------\n",
            "L_prev= -24.979061419041678\n",
            "L_new= -2.7417944214373087\n",
            "t= 1\n",
            "--------------------------------------------------\n",
            "L_prev= -2.7417944214373087\n",
            "L_new= 12.923671832844727\n",
            "t= 2\n",
            "--------------------------------------------------\n",
            "L_prev= 12.923671832844727\n",
            "L_new= 26.498437651226823\n",
            "t= 3\n",
            "--------------------------------------------------\n",
            "L_prev= 26.498437651226823\n",
            "L_new= 36.745719528997235\n",
            "t= 4\n",
            "--------------------------------------------------\n",
            "L_prev= 36.745719528997235\n",
            "L_new= 42.59375909105305\n",
            "t= 5\n",
            "--------------------------------------------------\n",
            "L_prev= 42.59375909105305\n",
            "L_new= 44.80530555362608\n",
            "t= 6\n",
            "--------------------------------------------------\n",
            "L_prev= 44.80530555362608\n",
            "L_new= 45.70452806416698\n",
            "t= 7\n",
            "--------------------------------------------------\n",
            "L_prev= 45.70452806416698\n",
            "L_new= 46.07599296970359\n",
            "t= 8\n",
            "--------------------------------------------------\n"
          ]
        }
      ],
      "id": "nP9qZOuymvhf"
    },
    {
      "cell_type": "markdown",
      "source": [
        "**$\\textbf{Change detection decision}$**"
      ],
      "metadata": {
        "id": "lT62Efrkmvhg"
      },
      "id": "lT62Efrkmvhg"
    },
    {
      "cell_type": "code",
      "source": [
        "Delta = delta()\n",
        "print('Delta:',Delta)\n",
        "\n",
        "if Delta < C_max:\n",
        "    print('THERE IS CHANGE. DISTRIBUTION OF S PRIME IS DIFFERENT THAN DISTRIBUTION OF S ')\n",
        "\n",
        "else:\n",
        "    print('THERE IS NO CHANGE. DISTRIBUTION OF S PRIME IS SAME AS DISTRIBUTION OF S ')"
      ],
      "metadata": {
        "execution": {
          "iopub.status.busy": "2024-05-07T12:00:38.325910Z",
          "iopub.execute_input": "2024-05-07T12:00:38.326338Z",
          "iopub.status.idle": "2024-05-07T12:01:03.488229Z",
          "shell.execute_reply.started": "2024-05-07T12:00:38.326306Z",
          "shell.execute_reply": "2024-05-07T12:01:03.486998Z"
        },
        "trusted": true,
        "colab": {
          "base_uri": "https://localhost:8080/"
        },
        "id": "5pia1do0mvhh",
        "outputId": "e6d515a6-e66a-49e8-b681-f610f76fe73c"
      },
      "execution_count": 77,
      "outputs": [
        {
          "output_type": "stream",
          "name": "stdout",
          "text": [
            "Delta: -81.62426690012975\n",
            "THERE IS CHANGE. DISTRIBUTION OF S PRIME IS DIFFERENT THAN DISTRIBUTION OF S \n"
          ]
        }
      ],
      "id": "5pia1do0mvhh"
    },
    {
      "cell_type": "markdown",
      "source": [
        "# $\\textbf{Case 2: When S and S' are same}$"
      ],
      "metadata": {
        "id": "rJl9ZCD24BJc"
      },
      "id": "rJl9ZCD24BJc"
    },
    {
      "cell_type": "code",
      "source": [
        "image_index_s1 = image_index_sprime=14809    #we can put any number here\n",
        "s1_matrix=x_train[image_index_s1]\n",
        "len_s1=s1_matrix.shape[0]\n",
        "s2_matrix=s1_matrix.copy()\n",
        "len_s2=s2_matrix.shape[0]\n",
        "sprime_matrix=x_train[image_index_sprime]\n",
        "len_sprime=sprime_matrix.shape[0]"
      ],
      "metadata": {
        "execution": {
          "iopub.status.busy": "2024-05-07T11:59:10.717871Z",
          "iopub.execute_input": "2024-05-07T11:59:10.718432Z",
          "iopub.status.idle": "2024-05-07T11:59:10.725755Z",
          "shell.execute_reply.started": "2024-05-07T11:59:10.718397Z",
          "shell.execute_reply": "2024-05-07T11:59:10.724360Z"
        },
        "trusted": true,
        "id": "2f2B1t6T4b7w"
      },
      "execution_count": 78,
      "outputs": [],
      "id": "2f2B1t6T4b7w"
    },
    {
      "cell_type": "markdown",
      "source": [
        "**$\\textbf{Displaying images}$**"
      ],
      "metadata": {
        "id": "atYWeele4b7x"
      },
      "id": "atYWeele4b7x"
    },
    {
      "cell_type": "code",
      "source": [
        " #visualizing images\n",
        "s1_matrix_view=s1_matrix*255\n",
        "sprime_matrix_view=sprime_matrix*255\n",
        "\n",
        "s1_matrix_view=s1_matrix*255\n",
        "sprime_matrix_view=sprime_matrix*255\n",
        "\n",
        "fig, axes = plt.subplots(1, 2, figsize=(10, 5))\n",
        "axes[0].imshow(s1_matrix_view, cmap='gray')\n",
        "axes[0].set_title('S1')\n",
        "axes[0].axis('on')\n",
        "\n",
        "axes[1].imshow(sprime_matrix_view, cmap='gray')\n",
        "axes[1].set_title('S prime')\n",
        "axes[1].axis('on')\n",
        "\n",
        "plt.tight_layout()\n",
        "plt.show()"
      ],
      "metadata": {
        "execution": {
          "iopub.status.busy": "2024-05-07T11:59:14.048596Z",
          "iopub.execute_input": "2024-05-07T11:59:14.049795Z",
          "iopub.status.idle": "2024-05-07T11:59:14.990441Z",
          "shell.execute_reply.started": "2024-05-07T11:59:14.049755Z",
          "shell.execute_reply": "2024-05-07T11:59:14.989149Z"
        },
        "trusted": true,
        "colab": {
          "base_uri": "https://localhost:8080/",
          "height": 533
        },
        "outputId": "35a844ad-c7c0-4853-d749-b1982547806c",
        "id": "-1v4al4l4b7x"
      },
      "execution_count": 79,
      "outputs": [
        {
          "output_type": "display_data",
          "data": {
            "text/plain": [
              "<Figure size 1000x500 with 2 Axes>"
            ],
            "image/png": "[encoded data removed]"
          },
          "metadata": {}
        }
      ],
      "id": "-1v4al4l4b7x"
    },
    {
      "cell_type": "markdown",
      "source": [
        "**$\\textbf{Training}$**"
      ],
      "metadata": {
        "id": "bMBJKJRA4b7y"
      },
      "id": "bMBJKJRA4b7y"
    },
    {
      "cell_type": "code",
      "source": [
        "# Initial guess\n",
        "cov_mat = []\n",
        "for i in range(len_s1):\n",
        "    xi = s1_matrix[i, :].reshape(-1, 1)\n",
        "    mat = 0\n",
        "    for j in range(len_s1):\n",
        "        xj = s1_matrix[j, :].reshape(-1, 1)\n",
        "        mat += (xj-xi) @ (xj-xi).T\n",
        "    cov_mat.append(mat/(len_s1-1))\n",
        "\n",
        "#Training\n",
        "cov_mat= Algorithm1(cov_mat)\n",
        "\n",
        "p = 0.08/2\n",
        "stepsize = 0.02\n",
        "C_max= critical_value(p,stepsize)"
      ],
      "metadata": {
        "execution": {
          "iopub.status.busy": "2024-05-07T11:59:19.687328Z",
          "iopub.execute_input": "2024-05-07T11:59:19.688652Z",
          "iopub.status.idle": "2024-05-07T12:00:20.093467Z",
          "shell.execute_reply.started": "2024-05-07T11:59:19.688609Z",
          "shell.execute_reply": "2024-05-07T12:00:20.091898Z"
        },
        "trusted": true,
        "colab": {
          "base_uri": "https://localhost:8080/"
        },
        "outputId": "fbf41039-db8b-4ff0-c7c8-a0141540df8b",
        "id": "NOJbSMJo4b7y"
      },
      "execution_count": 80,
      "outputs": [
        {
          "output_type": "stream",
          "name": "stdout",
          "text": [
            "L_prev= -250\n",
            "L_new= -54.223803259768275\n",
            "t= 0\n",
            "--------------------------------------------------\n",
            "L_prev= -54.223803259768275\n",
            "L_new= -32.77853295616252\n",
            "t= 1\n",
            "--------------------------------------------------\n",
            "L_prev= -32.77853295616252\n",
            "L_new= -4.205711607345112\n",
            "t= 2\n",
            "--------------------------------------------------\n",
            "L_prev= -4.205711607345112\n",
            "L_new= 15.978974878133844\n",
            "t= 3\n",
            "--------------------------------------------------\n",
            "L_prev= 15.978974878133844\n",
            "L_new= 26.60367430738666\n",
            "t= 4\n",
            "--------------------------------------------------\n",
            "L_prev= 26.60367430738666\n",
            "L_new= 30.363463968687068\n",
            "t= 5\n",
            "--------------------------------------------------\n",
            "L_prev= 30.363463968687068\n",
            "L_new= 32.652175046006434\n",
            "t= 6\n",
            "--------------------------------------------------\n",
            "L_prev= 32.652175046006434\n",
            "L_new= 35.020940653487685\n",
            "t= 7\n",
            "--------------------------------------------------\n",
            "L_prev= 35.020940653487685\n",
            "L_new= 37.04688342424929\n",
            "t= 8\n",
            "--------------------------------------------------\n",
            "L_prev= 37.04688342424929\n",
            "L_new= 38.151664632589636\n",
            "t= 9\n",
            "--------------------------------------------------\n",
            "L_prev= 38.151664632589636\n",
            "L_new= 38.753004011115536\n",
            "t= 10\n",
            "--------------------------------------------------\n",
            "L_prev= 38.753004011115536\n",
            "L_new= 38.985286040124436\n",
            "t= 11\n",
            "--------------------------------------------------\n"
          ]
        }
      ],
      "id": "NOJbSMJo4b7y"
    },
    {
      "cell_type": "markdown",
      "source": [
        "**$\\textbf{Change detection decision}$**"
      ],
      "metadata": {
        "id": "8Z5By3_q4b7z"
      },
      "id": "8Z5By3_q4b7z"
    },
    {
      "cell_type": "code",
      "source": [
        "Delta = delta()\n",
        "print('Delta:',Delta)\n",
        "\n",
        "if Delta < C_max:\n",
        "    print('THERE IS CHANGE. DISTRIBUTION OF S PRIME IS DIFFERENT THAN DISTRIBUTION OF S ')\n",
        "\n",
        "else:\n",
        "    print('THERE IS NO CHANGE. DISTRIBUTION OF S PRIME IS SAME AS DISTRIBUTION OF S ')"
      ],
      "metadata": {
        "execution": {
          "iopub.status.busy": "2024-05-07T12:00:38.325910Z",
          "iopub.execute_input": "2024-05-07T12:00:38.326338Z",
          "iopub.status.idle": "2024-05-07T12:01:03.488229Z",
          "shell.execute_reply.started": "2024-05-07T12:00:38.326306Z",
          "shell.execute_reply": "2024-05-07T12:01:03.486998Z"
        },
        "trusted": true,
        "colab": {
          "base_uri": "https://localhost:8080/"
        },
        "outputId": "1388b3e3-2511-4500-d355-c2fddbbf2ae1",
        "id": "n6e6JRAc4b7z"
      },
      "execution_count": 81,
      "outputs": [
        {
          "output_type": "stream",
          "name": "stdout",
          "text": [
            "Delta: 0.0\n",
            "THERE IS NO CHANGE. DISTRIBUTION OF S PRIME IS SAME AS DISTRIBUTION OF S \n"
          ]
        }
      ],
      "id": "n6e6JRAc4b7z"
    },
    {
      "cell_type": "markdown",
      "source": [
        "# $\\textbf{Case 3: Adding noise in the same image. (S' = noisy version of S)}$"
      ],
      "metadata": {
        "id": "5SrFr32Amvhh"
      },
      "id": "5SrFr32Amvhh"
    },
    {
      "cell_type": "markdown",
      "source": [
        "**$\\textbf{Adding noise in the image}$**"
      ],
      "metadata": {
        "execution": {
          "iopub.status.busy": "2024-05-07T08:56:26.545090Z",
          "iopub.execute_input": "2024-05-07T08:56:26.545484Z",
          "iopub.status.idle": "2024-05-07T08:56:26.552424Z",
          "shell.execute_reply.started": "2024-05-07T08:56:26.545456Z",
          "shell.execute_reply": "2024-05-07T08:56:26.550826Z"
        },
        "id": "9sAFb0Gsmvhi"
      },
      "id": "9sAFb0Gsmvhi"
    },
    {
      "cell_type": "code",
      "source": [
        "#adding noise\n",
        "\n",
        "image_index=53629    #We can put any number here\n",
        "\n",
        "s1_matrix=x_train[image_index]\n",
        "len_s1=s1_matrix.shape[0]\n",
        "s2_matrix=s1_matrix.copy()\n",
        "len_s2=s2_matrix.shape[0]\n",
        "\n",
        "sprime_matrix=x_train[image_index].copy()\n",
        "len_sprime=sprime_matrix.shape[0]\n",
        "\n",
        "\"\"\"Adding 3% noise, if it doesn't detect change, try slightly increasing noise percentage\"\"\"\n",
        "\n",
        "for i in range(int(0.03*28*28)):\n",
        "    sprime_matrix[np.random.randint(0,28), np.random.randint(0,28)]=np.random.uniform(0,1)\n"
      ],
      "metadata": {
        "execution": {
          "iopub.status.busy": "2024-05-07T11:56:43.425370Z",
          "iopub.execute_input": "2024-05-07T11:56:43.425798Z",
          "iopub.status.idle": "2024-05-07T11:56:43.435244Z",
          "shell.execute_reply.started": "2024-05-07T11:56:43.425763Z",
          "shell.execute_reply": "2024-05-07T11:56:43.433953Z"
        },
        "trusted": true,
        "id": "3fokFPy-mvhi"
      },
      "execution_count": 82,
      "outputs": [],
      "id": "3fokFPy-mvhi"
    },
    {
      "cell_type": "markdown",
      "source": [
        "**$\\textbf{Displaying images}$**"
      ],
      "metadata": {
        "id": "8WNoF3yOmvhi"
      },
      "id": "8WNoF3yOmvhi"
    },
    {
      "cell_type": "code",
      "source": [
        "#Visualizing images\n",
        "\n",
        "import matplotlib.pyplot as plt\n",
        "\n",
        "s1_matrix_view=s1_matrix*255\n",
        "sprime_matrix_view=sprime_matrix*255\n",
        "\n",
        "fig, axes = plt.subplots(1, 2, figsize=(10, 5))\n",
        "axes[0].imshow(s1_matrix_view, cmap='gray')\n",
        "axes[0].set_title('S1')\n",
        "axes[0].axis('on')\n",
        "\n",
        "axes[1].imshow(sprime_matrix_view, cmap='gray')\n",
        "axes[1].set_title('S prime')\n",
        "axes[1].axis('on')\n",
        "\n",
        "plt.tight_layout()\n",
        "plt.show()"
      ],
      "metadata": {
        "execution": {
          "iopub.status.busy": "2024-05-07T11:56:49.361234Z",
          "iopub.execute_input": "2024-05-07T11:56:49.361627Z",
          "iopub.status.idle": "2024-05-07T11:56:49.908651Z",
          "shell.execute_reply.started": "2024-05-07T11:56:49.361597Z",
          "shell.execute_reply": "2024-05-07T11:56:49.907432Z"
        },
        "trusted": true,
        "colab": {
          "base_uri": "https://localhost:8080/",
          "height": 533
        },
        "id": "JTLY6kICmvhj",
        "outputId": "252951b7-a9a5-4944-c88b-4588f7b1013f"
      },
      "execution_count": 83,
      "outputs": [
        {
          "output_type": "display_data",
          "data": {
            "text/plain": [
              "<Figure size 1000x500 with 2 Axes>"
            ],
            "image/png": "[encoded data removed]"
          },
          "metadata": {}
        }
      ],
      "id": "JTLY6kICmvhj"
    },
    {
      "cell_type": "markdown",
      "source": [
        "**$\\textbf{Training for selected S1}$**"
      ],
      "metadata": {
        "id": "wcdI1729mvhj"
      },
      "id": "wcdI1729mvhj"
    },
    {
      "cell_type": "code",
      "source": [
        "#Initial guess\n",
        "cov_mat_initial = []\n",
        "\n",
        "for i in range(len_s1):\n",
        "    xi = s1_matrix[i, :].reshape(-1, 1)\n",
        "    mat = 0\n",
        "    for j in range(len_s1):\n",
        "        xj = s1_matrix[j, :].reshape(-1, 1)\n",
        "        mat += (xj-xi) @ (xj-xi).T\n",
        "\n",
        "    cov_mat_initial.append(mat/(len_s1-1))\n",
        "\n",
        "#Training\n",
        "cov_mat= Algorithm1(cov_mat_initial)\n",
        "\n",
        "p = 0.08\n",
        "stepsize = 0.02\n",
        "C_max= critical_value(p,stepsize)"
      ],
      "metadata": {
        "scrolled": true,
        "execution": {
          "iopub.status.busy": "2024-05-07T11:56:56.851756Z",
          "iopub.execute_input": "2024-05-07T11:56:56.852206Z",
          "iopub.status.idle": "2024-05-07T11:58:05.036199Z",
          "shell.execute_reply.started": "2024-05-07T11:56:56.852172Z",
          "shell.execute_reply": "2024-05-07T11:58:05.034590Z"
        },
        "trusted": true,
        "colab": {
          "base_uri": "https://localhost:8080/"
        },
        "id": "glxRNfoYmvhj",
        "outputId": "cb3dbc7e-0ec8-4d28-f739-03aaffa6898e"
      },
      "execution_count": 84,
      "outputs": [
        {
          "output_type": "stream",
          "name": "stdout",
          "text": [
            "L_prev= -250\n",
            "L_new= -43.842275419465764\n",
            "t= 0\n",
            "--------------------------------------------------\n",
            "L_prev= -43.842275419465764\n",
            "L_new= -20.14056892812331\n",
            "t= 1\n",
            "--------------------------------------------------\n",
            "L_prev= -20.14056892812331\n",
            "L_new= 7.962562871482346\n",
            "t= 2\n",
            "--------------------------------------------------\n",
            "L_prev= 7.962562871482346\n",
            "L_new= 26.080088303206274\n",
            "t= 3\n",
            "--------------------------------------------------\n",
            "L_prev= 26.080088303206274\n",
            "L_new= 31.95055718815513\n",
            "t= 4\n",
            "--------------------------------------------------\n",
            "L_prev= 31.95055718815513\n",
            "L_new= 33.85029680034366\n",
            "t= 5\n",
            "--------------------------------------------------\n",
            "L_prev= 33.85029680034366\n",
            "L_new= 34.76599292403555\n",
            "t= 6\n",
            "--------------------------------------------------\n",
            "L_prev= 34.76599292403555\n",
            "L_new= 35.2330975465774\n",
            "t= 7\n",
            "--------------------------------------------------\n",
            "L_prev= 35.2330975465774\n",
            "L_new= 35.529214655706554\n",
            "t= 8\n",
            "--------------------------------------------------\n"
          ]
        }
      ],
      "id": "glxRNfoYmvhj"
    },
    {
      "cell_type": "markdown",
      "source": [
        "**$\\textbf{Change detection decision}$**"
      ],
      "metadata": {
        "id": "cjgohxF9mvhk"
      },
      "id": "cjgohxF9mvhk"
    },
    {
      "cell_type": "code",
      "source": [
        "#Change detection test\n",
        "Delta = delta()\n",
        "print('delta:',Delta)\n",
        "\n",
        "if Delta < C_max:\n",
        "    print('THERE IS CHANGE. DISTRIBUTION OF S PRIME IS DIFFERENT THAN DISTRIBUTION OF S ')\n",
        "\n",
        "else:\n",
        "    print('THERE IS NO CHANGE. DISTRIBUTION OF S PRIME IS SAME AS DISTRIBUTION OF S ')"
      ],
      "metadata": {
        "execution": {
          "iopub.status.busy": "2024-05-07T11:58:15.144286Z",
          "iopub.execute_input": "2024-05-07T11:58:15.144702Z",
          "iopub.status.idle": "2024-05-07T11:58:40.351546Z",
          "shell.execute_reply.started": "2024-05-07T11:58:15.144669Z",
          "shell.execute_reply": "2024-05-07T11:58:40.349862Z"
        },
        "trusted": true,
        "colab": {
          "base_uri": "https://localhost:8080/"
        },
        "id": "cFjpD81tmvhk",
        "outputId": "b8762636-b87f-47ff-eda4-b5dac5937178"
      },
      "execution_count": 85,
      "outputs": [
        {
          "output_type": "stream",
          "name": "stdout",
          "text": [
            "delta: -38.79296070504994\n",
            "THERE IS CHANGE. DISTRIBUTION OF S PRIME IS DIFFERENT THAN DISTRIBUTION OF S \n"
          ]
        }
      ],
      "id": "cFjpD81tmvhk"
    },
    {
      "cell_type": "code",
      "source": [],
      "metadata": {
        "id": "dBPoc86lDRhb"
      },
      "id": "dBPoc86lDRhb",
      "execution_count": null,
      "outputs": []
    }
  ]
}